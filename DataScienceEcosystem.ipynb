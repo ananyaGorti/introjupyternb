{
 "cells": [
  {
   "cell_type": "markdown",
   "id": "73a5b2ae-7f46-44e3-9cb7-a92e764f5bc8",
   "metadata": {},
   "source": [
    "# Data Science Tools and Ecosystem"
   ]
  },
  {
   "cell_type": "markdown",
   "id": "39855dc6-9854-4c19-8ccc-bc2981ffb57e",
   "metadata": {},
   "source": [
    "In this notebook, Data Science Tools and Ecosystem are summarized.\n"
   ]
  },
  {
   "cell_type": "code",
   "execution_count": null,
   "id": "611ef984-fa5c-42cb-ad79-dbafa62f20b7",
   "metadata": {},
   "outputs": [],
   "source": [
    "**Objectives:**\n",
    "* You can use R for data science\n",
    "* You can use Jupyter Notebook to run code\n",
    "* You can use RStudio to code in R"
   ]
  },
  {
   "cell_type": "markdown",
   "id": "054acf64-f747-4d02-9179-03c2f07a8807",
   "metadata": {},
   "source": [
    " Some of the popular languages that Data Scientists use are:\n",
    "1. R\n",
    "2. Python\n",
    "3. C++\n"
   ]
  },
  {
   "cell_type": "markdown",
   "id": "8f047f0a-f7a0-4427-bdf5-e75318f70685",
   "metadata": {},
   "source": [
    "Some of the commonly used libraries used by Data Scientists include:\n",
    "1. Pandas\n",
    "2. NumPY\n",
    "3. Matplotlib"
   ]
  },
  {
   "cell_type": "markdown",
   "id": "1ad2ba93-701f-4ced-ab26-496cff4a4bdf",
   "metadata": {},
   "source": [
    "|Data Science Tools|\n",
    "---------------------\n",
    "|Jupyter Notebook|\n",
    "|JupyterLab|\n",
    "|Apache Zepplin|\n"
   ]
  },
  {
   "cell_type": "markdown",
   "id": "18fd6165-a988-47da-a1ed-48c245a8331f",
   "metadata": {},
   "source": [
    "# Below are a few examples of evaluating arithmetic expressions in Python."
   ]
  },
  {
   "cell_type": "code",
   "execution_count": 2,
   "id": "7b83aae0-43c7-45d7-a8be-98d1ec989480",
   "metadata": {
    "tags": []
   },
   "outputs": [
    {
     "data": {
      "text/plain": [
       "17"
      ]
     },
     "execution_count": 2,
     "metadata": {},
     "output_type": "execute_result"
    }
   ],
   "source": [
    "(3*4)+5\n",
    "#This a simple arithmetic expression to mutiply then add integers"
   ]
  },
  {
   "cell_type": "code",
   "execution_count": 4,
   "id": "bebd1b3a-651d-45c4-b044-125565b9ede7",
   "metadata": {
    "tags": []
   },
   "outputs": [
    {
     "data": {
      "text/plain": [
       "33.333333333333336"
      ]
     },
     "execution_count": 4,
     "metadata": {},
     "output_type": "execute_result"
    }
   ],
   "source": [
    "200/6\n",
    "#This will convert 200 minutes to hours by diving by 60"
   ]
  },
  {
   "cell_type": "code",
   "execution_count": null,
   "id": "773aa53b-cfba-48fa-8bc6-f5893c6d9ff5",
   "metadata": {},
   "outputs": [],
   "source": [
    "## Author\n",
    "Ananya"
   ]
  }
 ],
 "metadata": {
  "kernelspec": {
   "display_name": "Python",
   "language": "python",
   "name": "conda-env-python-py"
  },
  "language_info": {
   "codemirror_mode": {
    "name": "ipython",
    "version": 3
   },
   "file_extension": ".py",
   "mimetype": "text/x-python",
   "name": "python",
   "nbconvert_exporter": "python",
   "pygments_lexer": "ipython3",
   "version": "3.7.12"
  }
 },
 "nbformat": 4,
 "nbformat_minor": 5
}
